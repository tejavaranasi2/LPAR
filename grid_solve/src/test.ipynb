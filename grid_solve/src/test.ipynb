{
 "cells": [
  {
   "cell_type": "code",
   "execution_count": 3,
   "metadata": {},
   "outputs": [],
   "source": [
    "import numpy as np\n",
    "import pandas as pd\n",
    "\n",
    "import matplotlib.pyplot as plt\n"
   ]
  },
  {
   "attachments": {},
   "cell_type": "markdown",
   "metadata": {},
   "source": [
    "# work on proving constraints via eigen values"
   ]
  },
  {
   "cell_type": "code",
   "execution_count": 4,
   "metadata": {},
   "outputs": [],
   "source": [
    "M=[[0.8,0.2],[0.2,0.8]]\n",
    "x0=[1,0]\n",
    "\n",
    "M=np.array(M)\n",
    "x0=np.array(x0)\n",
    "\n",
    "def fun(vec):\n",
    "    return vec[0]-vec[1]-0.2"
   ]
  },
  {
   "cell_type": "code",
   "execution_count": 9,
   "metadata": {},
   "outputs": [
    {
     "name": "stdout",
     "output_type": "stream",
     "text": [
      "[1.  0.6]\n"
     ]
    },
    {
     "data": {
      "image/png": "[encoded data removed]",
      "text/plain": [
       "<Figure size 432x288 with 1 Axes>"
      ]
     },
     "metadata": {
      "needs_background": "light"
     },
     "output_type": "display_data"
    }
   ],
   "source": [
    "eig,vec= np.linalg.eig(M)\n",
    "coeff=np.matmul(np.linalg.inv(vec),x0)\n",
    "\n",
    "print(eig)\n",
    "x=[]\n",
    "y=[]\n",
    "eig_in=eig\n",
    "for i in range(100):\n",
    "    eig_old=eig_in\n",
    "    eig_in=eig*eig_in\n",
    "    x.append(eig_in[0])\n",
    "    y.append(eig_in[1])\n",
    "    plt.plot(np.array([eig_old[0],eig_in[0]]),np.array([eig_old[1],eig_in[1]]),'r-')\n",
    "plt.plot(np.array(x),np.array(y),'b^')\n",
    "plt.show()\n",
    "    \n"
   ]
  },
  {
   "cell_type": "code",
   "execution_count": 13,
   "metadata": {},
   "outputs": [
    {
     "data": {
      "text/plain": [
       "[<matplotlib.lines.Line2D at 0x7ff3d0378a00>]"
      ]
     },
     "execution_count": 13,
     "metadata": {},
     "output_type": "execute_result"
    },
    {
     "data": {
      "image/png": "[encoded data removed]",
      "text/plain": [
       "<Figure size 432x288 with 1 Axes>"
      ]
     },
     "metadata": {
      "needs_background": "light"
     },
     "output_type": "display_data"
    }
   ],
   "source": [
    "x=[]\n",
    "y=[]\n",
    "eig=np.array([0.4,0.6])\n",
    "eig_in=eig\n",
    "for i in range(100):\n",
    "    eig_old=eig_in\n",
    "    eig_in=eig*eig_in\n",
    "    x.append(eig_in[0])\n",
    "    y.append(eig_in[1])\n",
    "    plt.plot(np.array([eig_old[0],eig_in[0]]),np.array([eig_old[1],eig_in[1]]),'r-')\n",
    "plt.plot(np.array(x),np.array(y),'b^')"
   ]
  }
 ],
 "metadata": {
  "kernelspec": {
   "display_name": "anakin_nlp",
   "language": "python",
   "name": "python3"
  },
  "language_info": {
   "codemirror_mode": {
    "name": "ipython",
    "version": 3
   },
   "file_extension": ".py",
   "mimetype": "text/x-python",
   "name": "python",
   "nbconvert_exporter": "python",
   "pygments_lexer": "ipython3",
   "version": "3.10.4"
  },
  "orig_nbformat": 4
 },
 "nbformat": 4,
 "nbformat_minor": 2
}
